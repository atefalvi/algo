{
  "nbformat": 4,
  "nbformat_minor": 0,
  "metadata": {
    "colab": {
      "name": "Selection_Sort.ipynb",
      "provenance": [],
      "authorship_tag": "ABX9TyN/jwdgvsyDWU3PdIb8tWFL",
      "include_colab_link": true
    },
    "kernelspec": {
      "name": "python3",
      "display_name": "Python 3"
    },
    "language_info": {
      "name": "python"
    }
  },
  "cells": [
    {
      "cell_type": "markdown",
      "metadata": {
        "id": "view-in-github",
        "colab_type": "text"
      },
      "source": [
        "<a href=\"https://colab.research.google.com/github/atefalvi/algo/blob/main/Selection_Sort.ipynb\" target=\"_parent\"><img src=\"https://colab.research.google.com/assets/colab-badge.svg\" alt=\"Open In Colab\"/></a>"
      ]
    },
    {
      "cell_type": "markdown",
      "source": [
        "# Selection Sort"
      ],
      "metadata": {
        "id": "Xgx2B81kebpu"
      }
    },
    {
      "cell_type": "code",
      "source": [
        "def findSmallest(arr):\n",
        "  smallest = arr[0]\n",
        "  smallest_idx = 0\n",
        "  for i in range(1, len(arr)):\n",
        "    if arr[i] < smallest:\n",
        "      smallest = arr[i]\n",
        "      smallest_idx = i\n",
        "  return smallest_idx"
      ],
      "metadata": {
        "id": "6SR7pCZueeTE"
      },
      "execution_count": 1,
      "outputs": []
    },
    {
      "cell_type": "code",
      "source": [
        "findSmallest([5,3,4,1,2,5])"
      ],
      "metadata": {
        "colab": {
          "base_uri": "https://localhost:8080/"
        },
        "id": "J5ZWisOBfOLB",
        "outputId": "1ca1dd99-89b6-42d2-cf2f-7f0f813ea8b8"
      },
      "execution_count": 2,
      "outputs": [
        {
          "output_type": "execute_result",
          "data": {
            "text/plain": [
              "3"
            ]
          },
          "metadata": {},
          "execution_count": 2
        }
      ]
    },
    {
      "cell_type": "code",
      "source": [
        "def fs_breakdown(arr):\n",
        "  smallest = arr[0]\n",
        "  smallest_idx = 0\n",
        "  step = 0\n",
        "  for i in range(0, len(arr)):\n",
        "    step = step + 1\n",
        "    print(\"----- \"+str(step)+\" ------\")\n",
        "    print(f\"i: {i}\")\n",
        "    print(f\"arr[i]: {arr[i]}\")\n",
        "    print(f\"smallest:{smallest}\")\n",
        "    print(f\"smallest_idx: {smallest_idx}\")\n",
        "    print(\"-----------\")\n",
        "    if arr[i] < smallest:\n",
        "      smallest = arr[i]\n",
        "      smallest_idx = i\n",
        "  return print(\"Answer: \" + str(smallest_idx))"
      ],
      "metadata": {
        "id": "f6Barii6faJl"
      },
      "execution_count": 18,
      "outputs": []
    },
    {
      "cell_type": "code",
      "source": [
        "fs_breakdown([5,3,4,1,2,5])"
      ],
      "metadata": {
        "colab": {
          "base_uri": "https://localhost:8080/"
        },
        "id": "4bid3MjQgDqL",
        "outputId": "33504959-dd33-40df-b188-8e8950248ea8"
      },
      "execution_count": 17,
      "outputs": [
        {
          "output_type": "stream",
          "name": "stdout",
          "text": [
            "----- 1 ------\n",
            "i: 1\n",
            "arr[i]: 3\n",
            "smallest:5\n",
            "smallest_idx: 0\n",
            "-----------\n",
            "----- 2 ------\n",
            "i: 2\n",
            "arr[i]: 4\n",
            "smallest:3\n",
            "smallest_idx: 1\n",
            "-----------\n",
            "----- 3 ------\n",
            "i: 3\n",
            "arr[i]: 1\n",
            "smallest:3\n",
            "smallest_idx: 1\n",
            "-----------\n",
            "----- 4 ------\n",
            "i: 4\n",
            "arr[i]: 2\n",
            "smallest:1\n",
            "smallest_idx: 3\n",
            "-----------\n",
            "----- 5 ------\n",
            "i: 5\n",
            "arr[i]: 5\n",
            "smallest:1\n",
            "smallest_idx: 3\n",
            "-----------\n",
            "Answer: 3\n"
          ]
        }
      ]
    },
    {
      "cell_type": "code",
      "source": [
        ""
      ],
      "metadata": {
        "id": "bYQPHkXjgHp4"
      },
      "execution_count": null,
      "outputs": []
    }
  ]
}