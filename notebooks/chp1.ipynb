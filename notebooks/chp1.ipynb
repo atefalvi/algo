{
 "cells": [
  {
   "cell_type": "markdown",
   "metadata": {},
   "source": [
    "## Binary Search"
   ]
  },
  {
   "cell_type": "code",
   "execution_count": 1,
   "metadata": {},
   "outputs": [
    {
     "data": {
      "text/plain": [
       "[1, 3, 5, 7, 9]"
      ]
     },
     "execution_count": 1,
     "metadata": {},
     "output_type": "execute_result"
    }
   ],
   "source": [
    "my_list = [1,3,5,7,9]\n",
    "my_list"
   ]
  },
  {
   "cell_type": "code",
   "execution_count": 3,
   "metadata": {},
   "outputs": [],
   "source": [
    "def binary_search(list, item):\n",
    "    low = 0\n",
    "    high = len(list)-1\n",
    "\n",
    "    while low <= high:\n",
    "        mid = (low + high)\n",
    "        guess = list[mid]\n",
    "        if guess == item:\n",
    "            return mid\n",
    "        if guess > item:\n",
    "            high = mid - 1\n",
    "        else:\n",
    "            low = mid + 1\n",
    "    return None"
   ]
  },
  {
   "cell_type": "code",
   "execution_count": 5,
   "metadata": {},
   "outputs": [
    {
     "data": {
      "text/plain": [
       "3"
      ]
     },
     "execution_count": 5,
     "metadata": {},
     "output_type": "execute_result"
    }
   ],
   "source": [
    "binary_search(my_list, 7)"
   ]
  },
  {
   "cell_type": "code",
   "execution_count": 6,
   "metadata": {},
   "outputs": [],
   "source": [
    "import random"
   ]
  },
  {
   "cell_type": "code",
   "execution_count": 15,
   "metadata": {},
   "outputs": [
    {
     "data": {
      "text/plain": [
       "[30, 54, 44, 89, 29, 69, 4, 36, 2, 76, 86, 4, 49, 50, 49, 5, 84, 71, 23, 61]"
      ]
     },
     "execution_count": 15,
     "metadata": {},
     "output_type": "execute_result"
    }
   ],
   "source": [
    "new_list = [random.randint(1,100) for i in range(20)]\n",
    "new_list"
   ]
  },
  {
   "cell_type": "code",
   "execution_count": 16,
   "metadata": {},
   "outputs": [],
   "source": [
    "new_list.sort()"
   ]
  },
  {
   "cell_type": "code",
   "execution_count": 17,
   "metadata": {},
   "outputs": [
    {
     "data": {
      "text/plain": [
       "[2, 4, 4, 5, 23, 29, 30, 36, 44, 49, 49, 50, 54, 61, 69, 71, 76, 84, 86, 89]"
      ]
     },
     "execution_count": 17,
     "metadata": {},
     "output_type": "execute_result"
    }
   ],
   "source": [
    "new_list"
   ]
  },
  {
   "cell_type": "code",
   "execution_count": 18,
   "metadata": {},
   "outputs": [],
   "source": [
    "import random\n",
    "def create_list(num, start = 1, end = 100):\n",
    "    arr = []\n",
    "    tmp = random.randint(start, end)\n",
    "      \n",
    "    for x in range(num):\n",
    "          \n",
    "        while tmp in arr:\n",
    "            tmp = random.randint(start, end)\n",
    "              \n",
    "        arr.append(tmp)\n",
    "          \n",
    "    arr.sort()\n",
    "      \n",
    "    return arr"
   ]
  },
  {
   "cell_type": "code",
   "execution_count": 47,
   "metadata": {},
   "outputs": [
    {
     "data": {
      "text/plain": [
       "[13,\n",
       " 14,\n",
       " 16,\n",
       " 28,\n",
       " 29,\n",
       " 37,\n",
       " 39,\n",
       " 40,\n",
       " 44,\n",
       " 49,\n",
       " 58,\n",
       " 64,\n",
       " 66,\n",
       " 68,\n",
       " 84,\n",
       " 85,\n",
       " 86,\n",
       " 89,\n",
       " 97,\n",
       " 99]"
      ]
     },
     "execution_count": 47,
     "metadata": {},
     "output_type": "execute_result"
    }
   ],
   "source": [
    "new_list = create_list(20,1,100)\n",
    "new_list"
   ]
  },
  {
   "cell_type": "code",
   "execution_count": 48,
   "metadata": {},
   "outputs": [
    {
     "data": {
      "text/plain": [
       "15"
      ]
     },
     "execution_count": 48,
     "metadata": {},
     "output_type": "execute_result"
    }
   ],
   "source": [
    "binary_search(new_list, 85)"
   ]
  },
  {
   "cell_type": "markdown",
   "metadata": {},
   "source": [
    "## Update Binary Search\n",
    "Update the binary search function to count the new of steps required to get to the answer."
   ]
  },
  {
   "cell_type": "code",
   "execution_count": 67,
   "metadata": {},
   "outputs": [
    {
     "data": {
      "text/plain": [
       "(0, 6)"
      ]
     },
     "execution_count": 67,
     "metadata": {},
     "output_type": "execute_result"
    }
   ],
   "source": [
    "binary_search2(new_list, 17)"
   ]
  },
  {
   "cell_type": "code",
   "execution_count": 50,
   "metadata": {},
   "outputs": [
    {
     "data": {
      "text/plain": [
       "[13,\n",
       " 14,\n",
       " 16,\n",
       " 28,\n",
       " 29,\n",
       " 37,\n",
       " 39,\n",
       " 40,\n",
       " 44,\n",
       " 49,\n",
       " 58,\n",
       " 64,\n",
       " 66,\n",
       " 68,\n",
       " 84,\n",
       " 85,\n",
       " 86,\n",
       " 89,\n",
       " 97,\n",
       " 99]"
      ]
     },
     "execution_count": 50,
     "metadata": {},
     "output_type": "execute_result"
    }
   ],
   "source": [
    "new_list"
   ]
  },
  {
   "cell_type": "code",
   "execution_count": 54,
   "metadata": {},
   "outputs": [
    {
     "name": "stdout",
     "output_type": "stream",
     "text": [
      "While Loop - Step:1, Low:0, High:18, Mid19, Item:99\n",
      "While Loop - Step:2, Low:0, High:17, Mid18, Item:97\n",
      "While Loop - Step:3, Low:0, High:16, Mid17, Item:89\n",
      "While Loop - Step:4, Low:0, High:15, Mid16, Item:86\n",
      "15 5\n",
      "While Loop - Step:5, Low:0, High:14, Mid15, Item:85\n",
      "While Loop - Step:6, Low:15, High:14, Mid14, Item:84\n"
     ]
    }
   ],
   "source": [
    "low = 0\n",
    "high = len(new_list)-1\n",
    "step = 0\n",
    "item = 14\n",
    "\n",
    "while low <= high:\n",
    "    step = step + 1\n",
    "    mid = int(low + high)\n",
    "    guess = new_list[mid]\n",
    "    if guess == item:\n",
    "        print(mid, step)\n",
    "    if guess >= item:\n",
    "        high = mid - 1\n",
    "    else:\n",
    "        low = mid + 1\n",
    "    print(f\"While Loop - Step:{step}, Low:{low}, High:{high}, Mid{mid}, Item:{new_list[mid]}\")"
   ]
  },
  {
   "cell_type": "code",
   "execution_count": 60,
   "metadata": {},
   "outputs": [
    {
     "data": {
      "text/plain": [
       "[17,\n",
       " 20,\n",
       " 49,\n",
       " 84,\n",
       " 88,\n",
       " 137,\n",
       " 139,\n",
       " 154,\n",
       " 158,\n",
       " 167,\n",
       " 174,\n",
       " 180,\n",
       " 183,\n",
       " 187,\n",
       " 197,\n",
       " 209,\n",
       " 218,\n",
       " 219,\n",
       " 223,\n",
       " 224,\n",
       " 229,\n",
       " 231,\n",
       " 235,\n",
       " 238,\n",
       " 240,\n",
       " 245,\n",
       " 248,\n",
       " 271,\n",
       " 283,\n",
       " 286,\n",
       " 290,\n",
       " 304,\n",
       " 332,\n",
       " 333,\n",
       " 342,\n",
       " 343,\n",
       " 365,\n",
       " 373,\n",
       " 384,\n",
       " 407,\n",
       " 422,\n",
       " 437,\n",
       " 441,\n",
       " 444,\n",
       " 451,\n",
       " 471,\n",
       " 478,\n",
       " 492,\n",
       " 494,\n",
       " 501,\n",
       " 512,\n",
       " 517,\n",
       " 521,\n",
       " 548,\n",
       " 552,\n",
       " 553,\n",
       " 557,\n",
       " 562,\n",
       " 565,\n",
       " 570,\n",
       " 578,\n",
       " 581,\n",
       " 597,\n",
       " 603,\n",
       " 624,\n",
       " 625,\n",
       " 650,\n",
       " 652,\n",
       " 661,\n",
       " 666,\n",
       " 669,\n",
       " 675,\n",
       " 678,\n",
       " 698,\n",
       " 717,\n",
       " 731,\n",
       " 741,\n",
       " 749,\n",
       " 760,\n",
       " 776,\n",
       " 781,\n",
       " 791,\n",
       " 798,\n",
       " 822,\n",
       " 837,\n",
       " 853,\n",
       " 858,\n",
       " 866,\n",
       " 919,\n",
       " 925,\n",
       " 927,\n",
       " 951,\n",
       " 953,\n",
       " 961,\n",
       " 971,\n",
       " 975,\n",
       " 978,\n",
       " 986,\n",
       " 989,\n",
       " 1000]"
      ]
     },
     "execution_count": 60,
     "metadata": {},
     "output_type": "execute_result"
    }
   ],
   "source": [
    "new_list = create_list(100,1,1000)\n",
    "new_list"
   ]
  },
  {
   "cell_type": "code",
   "execution_count": 63,
   "metadata": {},
   "outputs": [
    {
     "name": "stdout",
     "output_type": "stream",
     "text": [
      "While Loop - Step:1, Low:0, High:99, Mid49, Item:501\n",
      "While Loop - Step:2, Low:0, High:48, Mid24, Item:240\n",
      "While Loop - Step:3, Low:0, High:23, Mid11, Item:180\n",
      "While Loop - Step:4, Low:0, High:10, Mid5, Item:137\n",
      "While Loop - Step:5, Low:0, High:4, Mid2, Item:49\n",
      "While Loop - Step:6, Low:0, High:1, Mid0, Item:17\n",
      "0 6\n"
     ]
    }
   ],
   "source": [
    "low = 0\n",
    "high = len(new_list)-1\n",
    "step = 0\n",
    "item = 17\n",
    "\n",
    "while low <= high:\n",
    "    step = step + 1\n",
    "    mid = int(low + high)//2\n",
    "    guess = new_list[mid]\n",
    "    print(f\"While Loop - Step:{step}, Low:{low}, High:{high}, Mid{mid}, Item:{new_list[mid]}\")\n",
    "    if guess == item:\n",
    "        print(mid, step)\n",
    "    if guess >= item:\n",
    "        high = mid - 1\n",
    "    else:\n",
    "        low = mid + 1"
   ]
  },
  {
   "cell_type": "code",
   "execution_count": 72,
   "metadata": {},
   "outputs": [],
   "source": [
    "def binary_search2(list, item):\n",
    "    low = 0\n",
    "    high = len(list)-1\n",
    "    step = 0\n",
    "\n",
    "    while low <= high:\n",
    "        step = step + 1\n",
    "        mid = (low + high)//2\n",
    "        guess = list[mid]\n",
    "        print(f\"While Loop - Step:{step}, Low:{low}, High:{high}, Mid:{mid}, Item:{list[mid]}\")\n",
    "        if guess == item:\n",
    "            return mid, step\n",
    "        if guess > item:\n",
    "            high = mid - 1\n",
    "        else:\n",
    "            low = mid + 1\n",
    "    return Nonenew_list"
   ]
  },
  {
   "cell_type": "code",
   "execution_count": 74,
   "metadata": {},
   "outputs": [
    {
     "name": "stdout",
     "output_type": "stream",
     "text": [
      "While Loop - Step:1, Low:0, High:99, Mid:49, Item:501\n",
      "While Loop - Step:2, Low:0, High:48, Mid:24, Item:240\n",
      "While Loop - Step:3, Low:0, High:23, Mid:11, Item:180\n",
      "While Loop - Step:4, Low:12, High:23, Mid:17, Item:219\n",
      "While Loop - Step:5, Low:18, High:23, Mid:20, Item:229\n",
      "While Loop - Step:6, Low:21, High:23, Mid:22, Item:235\n"
     ]
    },
    {
     "data": {
      "text/plain": [
       "(22, 6)"
      ]
     },
     "execution_count": 74,
     "metadata": {},
     "output_type": "execute_result"
    }
   ],
   "source": [
    "binary_search2(new_list, 235)"
   ]
  },
  {
   "cell_type": "code",
   "execution_count": null,
   "metadata": {},
   "outputs": [],
   "source": []
  }
 ],
 "metadata": {
  "interpreter": {
   "hash": "916dbcbb3f70747c44a77c7bcd40155683ae19c65e1c03b4aa3499c5328201f1"
  },
  "kernelspec": {
   "display_name": "Python 3.9.7 64-bit",
   "language": "python",
   "name": "python3"
  },
  "language_info": {
   "codemirror_mode": {
    "name": "ipython",
    "version": 3
   },
   "file_extension": ".py",
   "mimetype": "text/x-python",
   "name": "python",
   "nbconvert_exporter": "python",
   "pygments_lexer": "ipython3",
   "version": "3.9.7"
  },
  "orig_nbformat": 4
 },
 "nbformat": 4,
 "nbformat_minor": 2
}
