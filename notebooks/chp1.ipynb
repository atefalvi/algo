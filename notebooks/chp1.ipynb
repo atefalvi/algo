{
 "cells": [
  {
   "cell_type": "markdown",
   "metadata": {},
   "source": [
    "## Binary Search"
   ]
  },
  {
   "cell_type": "code",
   "execution_count": 11,
   "metadata": {},
   "outputs": [
    {
     "data": {
      "text/plain": [
       "[1, 3, 5, 7, 9]"
      ]
     },
     "execution_count": 11,
     "metadata": {},
     "output_type": "execute_result"
    }
   ],
   "source": [
    "my_list = [1,3,5,7,9]\n",
    "my_list"
   ]
  },
  {
   "cell_type": "code",
   "execution_count": 12,
   "metadata": {},
   "outputs": [],
   "source": [
    "def binary_search(list, item):\n",
    "    low = 0\n",
    "    high = len(list)-1\n",
    "\n",
    "    while low <= high:\n",
    "        mid = (low + high)\n",
    "        guess = list[mid]\n",
    "        if guess == item:\n",
    "            return mid\n",
    "        if guess > item:\n",
    "            high = mid - 1\n",
    "        else:\n",
    "            low = mid + 1\n",
    "    return None"
   ]
  },
  {
   "cell_type": "code",
   "execution_count": 13,
   "metadata": {},
   "outputs": [
    {
     "data": {
      "text/plain": [
       "3"
      ]
     },
     "execution_count": 13,
     "metadata": {},
     "output_type": "execute_result"
    }
   ],
   "source": [
    "binary_search(my_list, 7)"
   ]
  },
  {
   "cell_type": "code",
   "execution_count": 14,
   "metadata": {},
   "outputs": [],
   "source": [
    "import random"
   ]
  },
  {
   "cell_type": "code",
   "execution_count": 15,
   "metadata": {},
   "outputs": [
    {
     "data": {
      "text/plain": [
       "[62, 48, 21, 43, 3, 23, 41, 64, 54, 63, 56, 82, 73, 18, 17, 55, 61, 91, 58, 61]"
      ]
     },
     "execution_count": 15,
     "metadata": {},
     "output_type": "execute_result"
    }
   ],
   "source": [
    "new_list = [random.randint(1,100) for i in range(20)]\n",
    "new_list"
   ]
  },
  {
   "cell_type": "code",
   "execution_count": 16,
   "metadata": {},
   "outputs": [],
   "source": [
    "new_list.sort()"
   ]
  },
  {
   "cell_type": "code",
   "execution_count": 17,
   "metadata": {},
   "outputs": [
    {
     "data": {
      "text/plain": [
       "[3, 17, 18, 21, 23, 41, 43, 48, 54, 55, 56, 58, 61, 61, 62, 63, 64, 73, 82, 91]"
      ]
     },
     "execution_count": 17,
     "metadata": {},
     "output_type": "execute_result"
    }
   ],
   "source": [
    "new_list"
   ]
  },
  {
   "cell_type": "code",
   "execution_count": 18,
   "metadata": {},
   "outputs": [],
   "source": [
    "import random\n",
    "def create_list(num, start = 1, end = 100):\n",
    "    arr = []\n",
    "    tmp = random.randint(start, end)\n",
    "      \n",
    "    for x in range(num):\n",
    "          \n",
    "        while tmp in arr:\n",
    "            tmp = random.randint(start, end)\n",
    "              \n",
    "        arr.append(tmp)\n",
    "          \n",
    "    arr.sort()\n",
    "      \n",
    "    return arr"
   ]
  },
  {
   "cell_type": "code",
   "execution_count": 19,
   "metadata": {},
   "outputs": [
    {
     "data": {
      "text/plain": [
       "[1, 11, 17, 19, 21, 27, 30, 31, 37, 43, 49, 50, 54, 56, 65, 73, 85, 93, 94, 95]"
      ]
     },
     "execution_count": 19,
     "metadata": {},
     "output_type": "execute_result"
    }
   ],
   "source": [
    "new_list = create_list(20,1,100)\n",
    "new_list"
   ]
  },
  {
   "cell_type": "code",
   "execution_count": 20,
   "metadata": {},
   "outputs": [
    {
     "data": {
      "text/plain": [
       "16"
      ]
     },
     "execution_count": 20,
     "metadata": {},
     "output_type": "execute_result"
    }
   ],
   "source": [
    "binary_search(new_list, 85)"
   ]
  },
  {
   "cell_type": "markdown",
   "metadata": {},
   "source": [
    "## Update Binary Search\n",
    "Update the binary search function to count the new of steps required to get to the answer."
   ]
  },
  {
   "cell_type": "code",
   "execution_count": 21,
   "metadata": {},
   "outputs": [
    {
     "name": "stdout",
     "output_type": "stream",
     "text": [
      "Expected Steps: 4.321928094887363\n",
      "While Loop - Step:1, Low:0, High:19, Mid:9, Item:43\n",
      "While Loop - Step:2, Low:0, High:8, Mid:4, Item:21\n",
      "While Loop - Step:3, Low:0, High:3, Mid:1, Item:11\n",
      "While Loop - Step:4, Low:2, High:3, Mid:2, Item:17\n",
      "Item: 17 is in Index: 2, Resolved in 4 steps\n"
     ]
    }
   ],
   "source": [
    "binary_search2(new_list, 17)"
   ]
  },
  {
   "cell_type": "code",
   "execution_count": 22,
   "metadata": {},
   "outputs": [
    {
     "data": {
      "text/plain": [
       "[1, 11, 17, 19, 21, 27, 30, 31, 37, 43, 49, 50, 54, 56, 65, 73, 85, 93, 94, 95]"
      ]
     },
     "execution_count": 22,
     "metadata": {},
     "output_type": "execute_result"
    }
   ],
   "source": [
    "new_list"
   ]
  },
  {
   "cell_type": "code",
   "execution_count": 23,
   "metadata": {},
   "outputs": [
    {
     "name": "stdout",
     "output_type": "stream",
     "text": [
      "While Loop - Step:1, Low:0, High:18, Mid19, Item:95\n",
      "While Loop - Step:2, Low:0, High:17, Mid18, Item:94\n",
      "While Loop - Step:3, Low:0, High:16, Mid17, Item:93\n",
      "While Loop - Step:4, Low:0, High:15, Mid16, Item:85\n",
      "While Loop - Step:5, Low:0, High:14, Mid15, Item:73\n",
      "While Loop - Step:6, Low:0, High:13, Mid14, Item:65\n",
      "While Loop - Step:7, Low:0, High:12, Mid13, Item:56\n",
      "While Loop - Step:8, Low:0, High:11, Mid12, Item:54\n",
      "While Loop - Step:9, Low:0, High:10, Mid11, Item:50\n",
      "While Loop - Step:10, Low:0, High:9, Mid10, Item:49\n",
      "While Loop - Step:11, Low:0, High:8, Mid9, Item:43\n",
      "While Loop - Step:12, Low:0, High:7, Mid8, Item:37\n",
      "While Loop - Step:13, Low:0, High:6, Mid7, Item:31\n",
      "While Loop - Step:14, Low:0, High:5, Mid6, Item:30\n",
      "While Loop - Step:15, Low:0, High:4, Mid5, Item:27\n",
      "While Loop - Step:16, Low:0, High:3, Mid4, Item:21\n",
      "While Loop - Step:17, Low:0, High:2, Mid3, Item:19\n",
      "While Loop - Step:18, Low:0, High:1, Mid2, Item:17\n",
      "While Loop - Step:19, Low:2, High:1, Mid1, Item:11\n"
     ]
    }
   ],
   "source": [
    "low = 0\n",
    "high = len(new_list)-1\n",
    "step = 0\n",
    "item = 14\n",
    "\n",
    "while low <= high:\n",
    "    step = step + 1\n",
    "    mid = int(low + high)\n",
    "    guess = new_list[mid]\n",
    "    if guess == item:\n",
    "        print(mid, step)\n",
    "    if guess >= item:\n",
    "        high = mid - 1\n",
    "    else:\n",
    "        low = mid + 1\n",
    "    print(f\"While Loop - Step:{step}, Low:{low}, High:{high}, Mid{mid}, Item:{new_list[mid]}\")"
   ]
  },
  {
   "cell_type": "code",
   "execution_count": 24,
   "metadata": {},
   "outputs": [
    {
     "data": {
      "text/plain": [
       "[5,\n",
       " 10,\n",
       " 14,\n",
       " 29,\n",
       " 37,\n",
       " 41,\n",
       " 44,\n",
       " 46,\n",
       " 62,\n",
       " 66,\n",
       " 88,\n",
       " 94,\n",
       " 104,\n",
       " 114,\n",
       " 116,\n",
       " 141,\n",
       " 147,\n",
       " 150,\n",
       " 151,\n",
       " 176,\n",
       " 185,\n",
       " 210,\n",
       " 227,\n",
       " 230,\n",
       " 242,\n",
       " 256,\n",
       " 262,\n",
       " 269,\n",
       " 272,\n",
       " 323,\n",
       " 333,\n",
       " 336,\n",
       " 347,\n",
       " 362,\n",
       " 367,\n",
       " 390,\n",
       " 393,\n",
       " 397,\n",
       " 404,\n",
       " 417,\n",
       " 422,\n",
       " 434,\n",
       " 435,\n",
       " 445,\n",
       " 454,\n",
       " 473,\n",
       " 489,\n",
       " 492,\n",
       " 502,\n",
       " 505,\n",
       " 512,\n",
       " 548,\n",
       " 550,\n",
       " 567,\n",
       " 574,\n",
       " 587,\n",
       " 591,\n",
       " 597,\n",
       " 610,\n",
       " 611,\n",
       " 633,\n",
       " 634,\n",
       " 644,\n",
       " 650,\n",
       " 664,\n",
       " 666,\n",
       " 682,\n",
       " 683,\n",
       " 687,\n",
       " 705,\n",
       " 713,\n",
       " 726,\n",
       " 729,\n",
       " 738,\n",
       " 745,\n",
       " 754,\n",
       " 757,\n",
       " 758,\n",
       " 767,\n",
       " 772,\n",
       " 779,\n",
       " 788,\n",
       " 789,\n",
       " 829,\n",
       " 831,\n",
       " 844,\n",
       " 846,\n",
       " 847,\n",
       " 850,\n",
       " 876,\n",
       " 912,\n",
       " 915,\n",
       " 925,\n",
       " 947,\n",
       " 973,\n",
       " 979,\n",
       " 986,\n",
       " 989,\n",
       " 991,\n",
       " 997]"
      ]
     },
     "execution_count": 24,
     "metadata": {},
     "output_type": "execute_result"
    }
   ],
   "source": [
    "new_list = create_list(100,1,1000)\n",
    "new_list"
   ]
  },
  {
   "cell_type": "code",
   "execution_count": 25,
   "metadata": {},
   "outputs": [
    {
     "name": "stdout",
     "output_type": "stream",
     "text": [
      "While Loop - Step:1, Low:0, High:99, Mid49, Item:505\n",
      "While Loop - Step:2, Low:0, High:48, Mid24, Item:242\n",
      "While Loop - Step:3, Low:0, High:23, Mid11, Item:94\n",
      "While Loop - Step:4, Low:0, High:10, Mid5, Item:41\n",
      "While Loop - Step:5, Low:0, High:4, Mid2, Item:14\n",
      "While Loop - Step:6, Low:3, High:4, Mid3, Item:29\n"
     ]
    }
   ],
   "source": [
    "low = 0\n",
    "high = len(new_list)-1\n",
    "step = 0\n",
    "item = 17\n",
    "\n",
    "while low <= high:\n",
    "    step = step + 1\n",
    "    mid = int(low + high)//2\n",
    "    guess = new_list[mid]\n",
    "    print(f\"While Loop - Step:{step}, Low:{low}, High:{high}, Mid{mid}, Item:{new_list[mid]}\")\n",
    "    if guess == item:\n",
    "        print(mid, step)\n",
    "    if guess >= item:\n",
    "        high = mid - 1\n",
    "    else:\n",
    "        low = mid + 1"
   ]
  },
  {
   "cell_type": "code",
   "execution_count": 26,
   "metadata": {},
   "outputs": [],
   "source": [
    "def binary_search2(list, item):\n",
    "    import math\n",
    "    log = math.log(len(list),2)\n",
    "    print(f\"Expected Steps: {log}\")\n",
    "    low = 0\n",
    "    high = len(list)-1\n",
    "    step = 0\n",
    "\n",
    "    while low <= high:\n",
    "        step = step + 1\n",
    "        mid = (low + high)//2\n",
    "        guess = list[mid]\n",
    "        print(f\"While Loop - Step:{step}, Low:{low}, High:{high}, Mid:{mid}, Item:{list[mid]}\")\n",
    "        if guess == item:\n",
    "            return print(f\"Item: {item} is in Index: {mid}, Resolved in {step} steps\")\n",
    "        if guess > item:\n",
    "            high = mid - 1\n",
    "        else:\n",
    "            low = mid + 1\n",
    "    return print(\"Item not in list\")"
   ]
  },
  {
   "cell_type": "code",
   "execution_count": 30,
   "metadata": {},
   "outputs": [
    {
     "name": "stdout",
     "output_type": "stream",
     "text": [
      "Expected Steps: 6.643856189774725\n",
      "While Loop - Step:1, Low:0, High:99, Mid:49, Item:505\n",
      "While Loop - Step:2, Low:50, High:99, Mid:74, Item:745\n",
      "While Loop - Step:3, Low:75, High:99, Mid:87, Item:847\n",
      "While Loop - Step:4, Low:88, High:99, Mid:93, Item:947\n",
      "While Loop - Step:5, Low:94, High:99, Mid:96, Item:986\n",
      "While Loop - Step:6, Low:97, High:99, Mid:98, Item:991\n",
      "While Loop - Step:7, Low:99, High:99, Mid:99, Item:997\n",
      "Item: 997 is in Index: 99, Resolved in 7 steps\n"
     ]
    }
   ],
   "source": [
    "binary_search2(new_list, 997)"
   ]
  },
  {
   "cell_type": "code",
   "execution_count": 31,
   "metadata": {},
   "outputs": [
    {
     "name": "stdout",
     "output_type": "stream",
     "text": [
      "Requirement already satisfied: iplantuml in /opt/anaconda3/lib/python3.8/site-packages (0.1.1)\n",
      "Requirement already satisfied: plantweb in /opt/anaconda3/lib/python3.8/site-packages (from iplantuml) (1.2.1)\n",
      "Requirement already satisfied: six in /opt/anaconda3/lib/python3.8/site-packages (from plantweb->iplantuml) (1.15.0)\n",
      "Requirement already satisfied: requests in /opt/anaconda3/lib/python3.8/site-packages (from plantweb->iplantuml) (2.25.1)\n",
      "Requirement already satisfied: docutils in /opt/anaconda3/lib/python3.8/site-packages (from plantweb->iplantuml) (0.17)\n",
      "Requirement already satisfied: urllib3<1.27,>=1.21.1 in /opt/anaconda3/lib/python3.8/site-packages (from requests->plantweb->iplantuml) (1.26.4)\n",
      "Requirement already satisfied: certifi>=2017.4.17 in /opt/anaconda3/lib/python3.8/site-packages (from requests->plantweb->iplantuml) (2020.12.5)\n",
      "Requirement already satisfied: chardet<5,>=3.0.2 in /opt/anaconda3/lib/python3.8/site-packages (from requests->plantweb->iplantuml) (4.0.0)\n",
      "Requirement already satisfied: idna<3,>=2.5 in /opt/anaconda3/lib/python3.8/site-packages (from requests->plantweb->iplantuml) (2.10)\n"
     ]
    }
   ],
   "source": [
    "!pip install iplantuml"
   ]
  },
  {
   "cell_type": "code",
   "execution_count": 32,
   "metadata": {},
   "outputs": [],
   "source": [
    "import iplantuml"
   ]
  },
  {
   "cell_type": "code",
   "execution_count": 33,
   "metadata": {},
   "outputs": [
    {
     "ename": "CalledProcessError",
     "evalue": "Command '['plantweb', '--format', 'auto', '77ebf20f-eade-4f67-9cd9-3836592ed557.uml']' returned non-zero exit status 1.",
     "output_type": "error",
     "traceback": [
      "\u001b[0;31m---------------------------------------------------------------------------\u001b[0m",
      "\u001b[0;31mCalledProcessError\u001b[0m                        Traceback (most recent call last)",
      "\u001b[0;32m<ipython-input-33-7a605c3b732b>\u001b[0m in \u001b[0;36m<module>\u001b[0;34m\u001b[0m\n\u001b[0;32m----> 1\u001b[0;31m \u001b[0mget_ipython\u001b[0m\u001b[0;34m(\u001b[0m\u001b[0;34m)\u001b[0m\u001b[0;34m.\u001b[0m\u001b[0mrun_cell_magic\u001b[0m\u001b[0;34m(\u001b[0m\u001b[0;34m'plantuml'\u001b[0m\u001b[0;34m,\u001b[0m \u001b[0;34m''\u001b[0m\u001b[0;34m,\u001b[0m \u001b[0;34m'@startuml\\nstart\\nwhile (low_idx <= high_idx)\\n    :mid_idx = ((low_idx + high_idx))/2;\\n    :guess = list[mid_idx];\\n    if (guess == item) then (yes)\\n        #green:Answer;\\n        stop;\\n\\n        (no)elseif (guess > item) then (yes)\\n            :high_idx = mid_idx - 1;\\n\\n        (no) else (guess < item) then (yes)\\n            :low_idx = mid_idx + 1;\\n    endif\\nendwhile\\nstop\\n@enduml\\n'\u001b[0m\u001b[0;34m)\u001b[0m\u001b[0;34m\u001b[0m\u001b[0;34m\u001b[0m\u001b[0m\n\u001b[0m",
      "\u001b[0;32m/opt/anaconda3/lib/python3.8/site-packages/IPython/core/interactiveshell.py\u001b[0m in \u001b[0;36mrun_cell_magic\u001b[0;34m(self, magic_name, line, cell)\u001b[0m\n\u001b[1;32m   2397\u001b[0m             \u001b[0;32mwith\u001b[0m \u001b[0mself\u001b[0m\u001b[0;34m.\u001b[0m\u001b[0mbuiltin_trap\u001b[0m\u001b[0;34m:\u001b[0m\u001b[0;34m\u001b[0m\u001b[0;34m\u001b[0m\u001b[0m\n\u001b[1;32m   2398\u001b[0m                 \u001b[0margs\u001b[0m \u001b[0;34m=\u001b[0m \u001b[0;34m(\u001b[0m\u001b[0mmagic_arg_s\u001b[0m\u001b[0;34m,\u001b[0m \u001b[0mcell\u001b[0m\u001b[0;34m)\u001b[0m\u001b[0;34m\u001b[0m\u001b[0;34m\u001b[0m\u001b[0m\n\u001b[0;32m-> 2399\u001b[0;31m                 \u001b[0mresult\u001b[0m \u001b[0;34m=\u001b[0m \u001b[0mfn\u001b[0m\u001b[0;34m(\u001b[0m\u001b[0;34m*\u001b[0m\u001b[0margs\u001b[0m\u001b[0;34m,\u001b[0m \u001b[0;34m**\u001b[0m\u001b[0mkwargs\u001b[0m\u001b[0;34m)\u001b[0m\u001b[0;34m\u001b[0m\u001b[0;34m\u001b[0m\u001b[0m\n\u001b[0m\u001b[1;32m   2400\u001b[0m             \u001b[0;32mreturn\u001b[0m \u001b[0mresult\u001b[0m\u001b[0;34m\u001b[0m\u001b[0;34m\u001b[0m\u001b[0m\n\u001b[1;32m   2401\u001b[0m \u001b[0;34m\u001b[0m\u001b[0m\n",
      "\u001b[0;32m/opt/anaconda3/lib/python3.8/site-packages/iplantuml/__init__.py\u001b[0m in \u001b[0;36mplantuml\u001b[0;34m(line, cell)\u001b[0m\n\u001b[1;32m     99\u001b[0m         \u001b[0moutput\u001b[0m \u001b[0;34m=\u001b[0m \u001b[0;32mNone\u001b[0m\u001b[0;34m\u001b[0m\u001b[0;34m\u001b[0m\u001b[0m\n\u001b[1;32m    100\u001b[0m         \u001b[0;32mif\u001b[0m \u001b[0muse_web\u001b[0m\u001b[0;34m:\u001b[0m\u001b[0;34m\u001b[0m\u001b[0;34m\u001b[0m\u001b[0m\n\u001b[0;32m--> 101\u001b[0;31m             \u001b[0moutput\u001b[0m \u001b[0;34m=\u001b[0m \u001b[0mplantuml_web\u001b[0m\u001b[0;34m(\u001b[0m\u001b[0muml_path\u001b[0m\u001b[0;34m)\u001b[0m\u001b[0;34m\u001b[0m\u001b[0;34m\u001b[0m\u001b[0m\n\u001b[0m\u001b[1;32m    102\u001b[0m         \u001b[0;32melse\u001b[0m\u001b[0;34m:\u001b[0m\u001b[0;34m\u001b[0m\u001b[0;34m\u001b[0m\u001b[0m\n\u001b[1;32m    103\u001b[0m             \u001b[0mplantuml_path\u001b[0m \u001b[0;34m=\u001b[0m \u001b[0mos\u001b[0m\u001b[0;34m.\u001b[0m\u001b[0mpath\u001b[0m\u001b[0;34m.\u001b[0m\u001b[0mabspath\u001b[0m\u001b[0;34m(\u001b[0m\u001b[0margs\u001b[0m\u001b[0;34m.\u001b[0m\u001b[0mplantuml_path\u001b[0m \u001b[0;32mor\u001b[0m \u001b[0mPLANTUMLPATH\u001b[0m\u001b[0;34m)\u001b[0m\u001b[0;34m\u001b[0m\u001b[0;34m\u001b[0m\u001b[0m\n",
      "\u001b[0;32m/opt/anaconda3/lib/python3.8/site-packages/iplantuml/__init__.py\u001b[0m in \u001b[0;36mplantuml_web\u001b[0;34m(*file_names, **kwargs)\u001b[0m\n\u001b[1;32m     66\u001b[0m            \"auto\"] + list(file_names)\n\u001b[1;32m     67\u001b[0m \u001b[0;34m\u001b[0m\u001b[0m\n\u001b[0;32m---> 68\u001b[0;31m     \u001b[0;32mreturn\u001b[0m \u001b[0m_exec_and_get_paths\u001b[0m\u001b[0;34m(\u001b[0m\u001b[0mcmd\u001b[0m\u001b[0;34m,\u001b[0m \u001b[0mfile_names\u001b[0m\u001b[0;34m)\u001b[0m\u001b[0;34m\u001b[0m\u001b[0;34m\u001b[0m\u001b[0m\n\u001b[0m\u001b[1;32m     69\u001b[0m \u001b[0;34m\u001b[0m\u001b[0m\n\u001b[1;32m     70\u001b[0m \u001b[0;34m\u001b[0m\u001b[0m\n",
      "\u001b[0;32m/opt/anaconda3/lib/python3.8/site-packages/iplantuml/__init__.py\u001b[0m in \u001b[0;36m_exec_and_get_paths\u001b[0;34m(cmd, file_names)\u001b[0m\n\u001b[1;32m     30\u001b[0m \u001b[0;34m\u001b[0m\u001b[0m\n\u001b[1;32m     31\u001b[0m \u001b[0;32mdef\u001b[0m \u001b[0m_exec_and_get_paths\u001b[0m\u001b[0;34m(\u001b[0m\u001b[0mcmd\u001b[0m\u001b[0;34m,\u001b[0m \u001b[0mfile_names\u001b[0m\u001b[0;34m)\u001b[0m\u001b[0;34m:\u001b[0m\u001b[0;34m\u001b[0m\u001b[0;34m\u001b[0m\u001b[0m\n\u001b[0;32m---> 32\u001b[0;31m     \u001b[0msubprocess\u001b[0m\u001b[0;34m.\u001b[0m\u001b[0mcheck_call\u001b[0m\u001b[0;34m(\u001b[0m\u001b[0mcmd\u001b[0m\u001b[0;34m,\u001b[0m \u001b[0mshell\u001b[0m\u001b[0;34m=\u001b[0m\u001b[0;32mFalse\u001b[0m\u001b[0;34m,\u001b[0m \u001b[0mstderr\u001b[0m\u001b[0;34m=\u001b[0m\u001b[0msubprocess\u001b[0m\u001b[0;34m.\u001b[0m\u001b[0mSTDOUT\u001b[0m\u001b[0;34m)\u001b[0m\u001b[0;34m\u001b[0m\u001b[0;34m\u001b[0m\u001b[0m\n\u001b[0m\u001b[1;32m     33\u001b[0m \u001b[0;34m\u001b[0m\u001b[0m\n\u001b[1;32m     34\u001b[0m     \u001b[0;32mreturn\u001b[0m \u001b[0;34m[\u001b[0m\u001b[0mos\u001b[0m\u001b[0;34m.\u001b[0m\u001b[0mpath\u001b[0m\u001b[0;34m.\u001b[0m\u001b[0msplitext\u001b[0m\u001b[0;34m(\u001b[0m\u001b[0mf\u001b[0m\u001b[0;34m)\u001b[0m\u001b[0;34m[\u001b[0m\u001b[0;36m0\u001b[0m\u001b[0;34m]\u001b[0m \u001b[0;34m+\u001b[0m \u001b[0;34m\".svg\"\u001b[0m \u001b[0;32mfor\u001b[0m \u001b[0mf\u001b[0m \u001b[0;32min\u001b[0m \u001b[0mfile_names\u001b[0m\u001b[0;34m]\u001b[0m\u001b[0;34m\u001b[0m\u001b[0;34m\u001b[0m\u001b[0m\n",
      "\u001b[0;32m/opt/anaconda3/lib/python3.8/subprocess.py\u001b[0m in \u001b[0;36mcheck_call\u001b[0;34m(*popenargs, **kwargs)\u001b[0m\n\u001b[1;32m    362\u001b[0m         \u001b[0;32mif\u001b[0m \u001b[0mcmd\u001b[0m \u001b[0;32mis\u001b[0m \u001b[0;32mNone\u001b[0m\u001b[0;34m:\u001b[0m\u001b[0;34m\u001b[0m\u001b[0;34m\u001b[0m\u001b[0m\n\u001b[1;32m    363\u001b[0m             \u001b[0mcmd\u001b[0m \u001b[0;34m=\u001b[0m \u001b[0mpopenargs\u001b[0m\u001b[0;34m[\u001b[0m\u001b[0;36m0\u001b[0m\u001b[0;34m]\u001b[0m\u001b[0;34m\u001b[0m\u001b[0;34m\u001b[0m\u001b[0m\n\u001b[0;32m--> 364\u001b[0;31m         \u001b[0;32mraise\u001b[0m \u001b[0mCalledProcessError\u001b[0m\u001b[0;34m(\u001b[0m\u001b[0mretcode\u001b[0m\u001b[0;34m,\u001b[0m \u001b[0mcmd\u001b[0m\u001b[0;34m)\u001b[0m\u001b[0;34m\u001b[0m\u001b[0;34m\u001b[0m\u001b[0m\n\u001b[0m\u001b[1;32m    365\u001b[0m     \u001b[0;32mreturn\u001b[0m \u001b[0;36m0\u001b[0m\u001b[0;34m\u001b[0m\u001b[0;34m\u001b[0m\u001b[0m\n\u001b[1;32m    366\u001b[0m \u001b[0;34m\u001b[0m\u001b[0m\n",
      "\u001b[0;31mCalledProcessError\u001b[0m: Command '['plantweb', '--format', 'auto', '77ebf20f-eade-4f67-9cd9-3836592ed557.uml']' returned non-zero exit status 1."
     ]
    }
   ],
   "source": [
    "%%plantuml\n",
    "@startuml\n",
    "start\n",
    "while (low_idx <= high_idx)\n",
    "    :mid_idx = ((low_idx + high_idx))/2;\n",
    "    :guess = list[mid_idx];\n",
    "    if (guess == item) then (yes)\n",
    "        #green:Answer;\n",
    "        stop;\n",
    "\n",
    "        (no)elseif (guess > item) then (yes)\n",
    "            :high_idx = mid_idx - 1;\n",
    "\n",
    "        (no) else (guess < item) then (yes)\n",
    "            :low_idx = mid_idx + 1;\n",
    "    endif\n",
    "endwhile\n",
    "stop\n",
    "@enduml"
   ]
  },
  {
   "cell_type": "code",
   "execution_count": 64,
   "metadata": {},
   "outputs": [
    {
     "data": {
      "image/svg+xml": "<svg xmlns=\"http://www.w3.org/2000/svg\" xmlns:xlink=\"http://www.w3.org/1999/xlink\" contentStyleType=\"text/css\" height=\"230px\" preserveAspectRatio=\"none\" style=\"width:311px;height:230px;background:#FFFFFF;\" version=\"1.1\" viewBox=\"0 0 311 230\" width=\"311px\" zoomAndPan=\"magnify\"><defs/><g><ellipse cx=\"159\" cy=\"20\" fill=\"#222222\" rx=\"10\" ry=\"10\" style=\"stroke:#222222;stroke-width:1.0;\"/><rect fill=\"#F1F1F1\" height=\"33.9688\" rx=\"12.5\" ry=\"12.5\" style=\"stroke:#181818;stroke-width:0.5;\" width=\"228\" x=\"45\" y=\"94\"/><text fill=\"#000000\" font-family=\"sans-serif\" font-size=\"12\" lengthAdjust=\"spacing\" textLength=\"208\" x=\"55\" y=\"115.1387\">mid_idx = ((low_idx + high_idx))/2</text><rect fill=\"#F1F1F1\" height=\"33.9688\" rx=\"12.5\" ry=\"12.5\" style=\"stroke:#181818;stroke-width:0.5;\" width=\"148\" x=\"85\" y=\"162.9688\"/><text fill=\"#000000\" font-family=\"sans-serif\" font-size=\"12\" lengthAdjust=\"spacing\" textLength=\"128\" x=\"95\" y=\"184.1074\">guess = list[mid_idx]</text><polygon fill=\"#F1F1F1\" points=\"101.5,50,216.5,50,228.5,62,216.5,74,101.5,74,89.5,62,101.5,50\" style=\"stroke:#181818;stroke-width:0.5;\"/><text fill=\"#000000\" font-family=\"sans-serif\" font-size=\"11\" lengthAdjust=\"spacing\" textLength=\"115\" x=\"101.5\" y=\"65.8081\">low_idx &lt;= high_idx</text><ellipse cx=\"24\" cy=\"105\" rx=\"11\" ry=\"11\" style=\"stroke:#222222;stroke-width:1.0;fill:none;\"/><ellipse cx=\"24\" cy=\"105\" fill=\"#222222\" rx=\"6\" ry=\"6\" style=\"stroke:#111111;stroke-width:1.0;\"/><line style=\"stroke:#181818;stroke-width:1.0;\" x1=\"159\" x2=\"159\" y1=\"127.9688\" y2=\"162.9688\"/><polygon fill=\"#181818\" points=\"155,152.9688,159,162.9688,163,152.9688,159,156.9688\" style=\"stroke:#181818;stroke-width:1.0;\"/><line style=\"stroke:#181818;stroke-width:1.0;\" x1=\"159\" x2=\"159\" y1=\"74\" y2=\"94\"/><polygon fill=\"#181818\" points=\"155,84,159,94,163,84,159,88\" style=\"stroke:#181818;stroke-width:1.0;\"/><line style=\"stroke:#181818;stroke-width:1.0;\" x1=\"159\" x2=\"159\" y1=\"196.9375\" y2=\"206.9375\"/><line style=\"stroke:#181818;stroke-width:1.0;\" x1=\"159\" x2=\"285\" y1=\"206.9375\" y2=\"206.9375\"/><polygon fill=\"#181818\" points=\"281,143.4688,285,133.4688,289,143.4688,285,139.4688\" style=\"stroke:#181818;stroke-width:1.0;\"/><line style=\"stroke:#181818;stroke-width:1.0;\" x1=\"285\" x2=\"285\" y1=\"62\" y2=\"206.9375\"/><line style=\"stroke:#181818;stroke-width:1.0;\" x1=\"285\" x2=\"228.5\" y1=\"62\" y2=\"62\"/><polygon fill=\"#181818\" points=\"238.5,58,228.5,62,238.5,66,234.5,62\" style=\"stroke:#181818;stroke-width:1.0;\"/><line style=\"stroke:#181818;stroke-width:1.0;\" x1=\"89.5\" x2=\"24\" y1=\"62\" y2=\"62\"/><line style=\"stroke:#181818;stroke-width:1.0;\" x1=\"24\" x2=\"24\" y1=\"62\" y2=\"94\"/><polygon fill=\"#181818\" points=\"20,84,24,94,28,84,24,88\" style=\"stroke:#181818;stroke-width:1.0;\"/><line style=\"stroke:#181818;stroke-width:1.0;\" x1=\"159\" x2=\"159\" y1=\"30\" y2=\"50\"/><polygon fill=\"#181818\" points=\"155,40,159,50,163,40,159,44\" style=\"stroke:#181818;stroke-width:1.0;\"/><!--MD5=[392a86e1c388fa7a77d7fdf32c21d205]\n@startuml\nstart\nwhile (low_idx <= high_idx)\n    :mid_idx = ((low_idx + high_idx))/2;\n    :guess = list[mid_idx];\nendwhile\nstop\n@enduml\n\nPlantUML version 1.2022.2beta7(Unknown compile time)\n(GPL source distribution)\nJava Runtime: Java(TM) SE Runtime Environment\nJVM: Java HotSpot(TM) 64-Bit Server VM\nDefault Encoding: UTF-8\nLanguage: en\nCountry: US\n--></g></svg>",
      "text/plain": [
       "<IPython.core.display.SVG object>"
      ]
     },
     "execution_count": 64,
     "metadata": {},
     "output_type": "execute_result"
    }
   ],
   "source": [
    "%%plantuml\n",
    "@startuml\n",
    "start\n",
    "while (low_idx <= high_idx)\n",
    "    :mid_idx = ((low_idx + high_idx))/2;\n",
    "    :guess = list[mid_idx];\n",
    "endwhile\n",
    "stop\n",
    "@enduml"
   ]
  },
  {
   "cell_type": "code",
   "execution_count": null,
   "metadata": {},
   "outputs": [],
   "source": []
  }
 ],
 "metadata": {
  "interpreter": {
   "hash": "916dbcbb3f70747c44a77c7bcd40155683ae19c65e1c03b4aa3499c5328201f1"
  },
  "kernelspec": {
   "display_name": "Python 3.9.7 64-bit",
   "language": "python",
   "name": "python3"
  },
  "language_info": {
   "codemirror_mode": {
    "name": "ipython",
    "version": 3
   },
   "file_extension": ".py",
   "mimetype": "text/x-python",
   "name": "python",
   "nbconvert_exporter": "python",
   "pygments_lexer": "ipython3",
   "version": "3.8.8"
  },
  "orig_nbformat": 4
 },
 "nbformat": 4,
 "nbformat_minor": 2
}
