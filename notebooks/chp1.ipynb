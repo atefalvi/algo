{
 "cells": [
  {
   "cell_type": "markdown",
   "metadata": {},
   "source": [
    "## Binary Search"
   ]
  },
  {
   "cell_type": "code",
   "execution_count": 1,
   "metadata": {},
   "outputs": [
    {
     "data": {
      "text/plain": [
       "[1, 3, 5, 7, 9]"
      ]
     },
     "execution_count": 1,
     "metadata": {},
     "output_type": "execute_result"
    }
   ],
   "source": [
    "my_list = [1,3,5,7,9]\n",
    "my_list"
   ]
  },
  {
   "cell_type": "code",
   "execution_count": 3,
   "metadata": {},
   "outputs": [],
   "source": [
    "def binary_search(list, item):\n",
    "    low = 0\n",
    "    high = len(list)-1\n",
    "\n",
    "    while low <= high:\n",
    "        mid = (low + high)\n",
    "        guess = list[mid]\n",
    "        if guess == item:\n",
    "            return mid\n",
    "        if guess > item:\n",
    "            high = mid - 1\n",
    "        else:\n",
    "            low = mid + 1\n",
    "    return None"
   ]
  },
  {
   "cell_type": "code",
   "execution_count": 5,
   "metadata": {},
   "outputs": [
    {
     "data": {
      "text/plain": [
       "3"
      ]
     },
     "execution_count": 5,
     "metadata": {},
     "output_type": "execute_result"
    }
   ],
   "source": [
    "binary_search(my_list, 7)"
   ]
  },
  {
   "cell_type": "code",
   "execution_count": 6,
   "metadata": {},
   "outputs": [],
   "source": [
    "import random"
   ]
  },
  {
   "cell_type": "code",
   "execution_count": 15,
   "metadata": {},
   "outputs": [
    {
     "data": {
      "text/plain": [
       "[30, 54, 44, 89, 29, 69, 4, 36, 2, 76, 86, 4, 49, 50, 49, 5, 84, 71, 23, 61]"
      ]
     },
     "execution_count": 15,
     "metadata": {},
     "output_type": "execute_result"
    }
   ],
   "source": [
    "new_list = [random.randint(1,100) for i in range(20)]\n",
    "new_list"
   ]
  },
  {
   "cell_type": "code",
   "execution_count": 16,
   "metadata": {},
   "outputs": [],
   "source": [
    "new_list.sort()"
   ]
  },
  {
   "cell_type": "code",
   "execution_count": 17,
   "metadata": {},
   "outputs": [
    {
     "data": {
      "text/plain": [
       "[2, 4, 4, 5, 23, 29, 30, 36, 44, 49, 49, 50, 54, 61, 69, 71, 76, 84, 86, 89]"
      ]
     },
     "execution_count": 17,
     "metadata": {},
     "output_type": "execute_result"
    }
   ],
   "source": [
    "new_list"
   ]
  },
  {
   "cell_type": "code",
   "execution_count": 18,
   "metadata": {},
   "outputs": [],
   "source": [
    "import random\n",
    "def create_list(num, start = 1, end = 100):\n",
    "    arr = []\n",
    "    tmp = random.randint(start, end)\n",
    "      \n",
    "    for x in range(num):\n",
    "          \n",
    "        while tmp in arr:\n",
    "            tmp = random.randint(start, end)\n",
    "              \n",
    "        arr.append(tmp)\n",
    "          \n",
    "    arr.sort()\n",
    "      \n",
    "    return arr"
   ]
  },
  {
   "cell_type": "code",
   "execution_count": 47,
   "metadata": {},
   "outputs": [
    {
     "data": {
      "text/plain": [
       "[13,\n",
       " 14,\n",
       " 16,\n",
       " 28,\n",
       " 29,\n",
       " 37,\n",
       " 39,\n",
       " 40,\n",
       " 44,\n",
       " 49,\n",
       " 58,\n",
       " 64,\n",
       " 66,\n",
       " 68,\n",
       " 84,\n",
       " 85,\n",
       " 86,\n",
       " 89,\n",
       " 97,\n",
       " 99]"
      ]
     },
     "execution_count": 47,
     "metadata": {},
     "output_type": "execute_result"
    }
   ],
   "source": [
    "new_list = create_list(20,1,100)\n",
    "new_list"
   ]
  },
  {
   "cell_type": "code",
   "execution_count": 48,
   "metadata": {},
   "outputs": [
    {
     "data": {
      "text/plain": [
       "15"
      ]
     },
     "execution_count": 48,
     "metadata": {},
     "output_type": "execute_result"
    }
   ],
   "source": [
    "binary_search(new_list, 85)"
   ]
  },
  {
   "cell_type": "markdown",
   "metadata": {},
   "source": [
    "## Update Binary Search\n",
    "Update the binary search function to count the new of steps required to get to the answer."
   ]
  },
  {
   "cell_type": "code",
   "execution_count": 67,
   "metadata": {},
   "outputs": [
    {
     "data": {
      "text/plain": [
       "(0, 6)"
      ]
     },
     "execution_count": 67,
     "metadata": {},
     "output_type": "execute_result"
    }
   ],
   "source": [
    "binary_search2(new_list, 17)"
   ]
  },
  {
   "cell_type": "code",
   "execution_count": 50,
   "metadata": {},
   "outputs": [
    {
     "data": {
      "text/plain": [
       "[13,\n",
       " 14,\n",
       " 16,\n",
       " 28,\n",
       " 29,\n",
       " 37,\n",
       " 39,\n",
       " 40,\n",
       " 44,\n",
       " 49,\n",
       " 58,\n",
       " 64,\n",
       " 66,\n",
       " 68,\n",
       " 84,\n",
       " 85,\n",
       " 86,\n",
       " 89,\n",
       " 97,\n",
       " 99]"
      ]
     },
     "execution_count": 50,
     "metadata": {},
     "output_type": "execute_result"
    }
   ],
   "source": [
    "new_list"
   ]
  },
  {
   "cell_type": "code",
   "execution_count": 54,
   "metadata": {},
   "outputs": [
    {
     "name": "stdout",
     "output_type": "stream",
     "text": [
      "While Loop - Step:1, Low:0, High:18, Mid19, Item:99\n",
      "While Loop - Step:2, Low:0, High:17, Mid18, Item:97\n",
      "While Loop - Step:3, Low:0, High:16, Mid17, Item:89\n",
      "While Loop - Step:4, Low:0, High:15, Mid16, Item:86\n",
      "15 5\n",
      "While Loop - Step:5, Low:0, High:14, Mid15, Item:85\n",
      "While Loop - Step:6, Low:15, High:14, Mid14, Item:84\n"
     ]
    }
   ],
   "source": [
    "low = 0\n",
    "high = len(new_list)-1\n",
    "step = 0\n",
    "item = 14\n",
    "\n",
    "while low <= high:\n",
    "    step = step + 1\n",
    "    mid = int(low + high)\n",
    "    guess = new_list[mid]\n",
    "    if guess == item:\n",
    "        print(mid, step)\n",
    "    if guess >= item:\n",
    "        high = mid - 1\n",
    "    else:\n",
    "        low = mid + 1\n",
    "    print(f\"While Loop - Step:{step}, Low:{low}, High:{high}, Mid{mid}, Item:{new_list[mid]}\")"
   ]
  },
  {
   "cell_type": "code",
   "execution_count": 60,
   "metadata": {},
   "outputs": [
    {
     "data": {
      "text/plain": [
       "[17,\n",
       " 20,\n",
       " 49,\n",
       " 84,\n",
       " 88,\n",
       " 137,\n",
       " 139,\n",
       " 154,\n",
       " 158,\n",
       " 167,\n",
       " 174,\n",
       " 180,\n",
       " 183,\n",
       " 187,\n",
       " 197,\n",
       " 209,\n",
       " 218,\n",
       " 219,\n",
       " 223,\n",
       " 224,\n",
       " 229,\n",
       " 231,\n",
       " 235,\n",
       " 238,\n",
       " 240,\n",
       " 245,\n",
       " 248,\n",
       " 271,\n",
       " 283,\n",
       " 286,\n",
       " 290,\n",
       " 304,\n",
       " 332,\n",
       " 333,\n",
       " 342,\n",
       " 343,\n",
       " 365,\n",
       " 373,\n",
       " 384,\n",
       " 407,\n",
       " 422,\n",
       " 437,\n",
       " 441,\n",
       " 444,\n",
       " 451,\n",
       " 471,\n",
       " 478,\n",
       " 492,\n",
       " 494,\n",
       " 501,\n",
       " 512,\n",
       " 517,\n",
       " 521,\n",
       " 548,\n",
       " 552,\n",
       " 553,\n",
       " 557,\n",
       " 562,\n",
       " 565,\n",
       " 570,\n",
       " 578,\n",
       " 581,\n",
       " 597,\n",
       " 603,\n",
       " 624,\n",
       " 625,\n",
       " 650,\n",
       " 652,\n",
       " 661,\n",
       " 666,\n",
       " 669,\n",
       " 675,\n",
       " 678,\n",
       " 698,\n",
       " 717,\n",
       " 731,\n",
       " 741,\n",
       " 749,\n",
       " 760,\n",
       " 776,\n",
       " 781,\n",
       " 791,\n",
       " 798,\n",
       " 822,\n",
       " 837,\n",
       " 853,\n",
       " 858,\n",
       " 866,\n",
       " 919,\n",
       " 925,\n",
       " 927,\n",
       " 951,\n",
       " 953,\n",
       " 961,\n",
       " 971,\n",
       " 975,\n",
       " 978,\n",
       " 986,\n",
       " 989,\n",
       " 1000]"
      ]
     },
     "execution_count": 60,
     "metadata": {},
     "output_type": "execute_result"
    }
   ],
   "source": [
    "new_list = create_list(100,1,1000)\n",
    "new_list"
   ]
  },
  {
   "cell_type": "code",
   "execution_count": 63,
   "metadata": {},
   "outputs": [
    {
     "name": "stdout",
     "output_type": "stream",
     "text": [
      "While Loop - Step:1, Low:0, High:99, Mid49, Item:501\n",
      "While Loop - Step:2, Low:0, High:48, Mid24, Item:240\n",
      "While Loop - Step:3, Low:0, High:23, Mid11, Item:180\n",
      "While Loop - Step:4, Low:0, High:10, Mid5, Item:137\n",
      "While Loop - Step:5, Low:0, High:4, Mid2, Item:49\n",
      "While Loop - Step:6, Low:0, High:1, Mid0, Item:17\n",
      "0 6\n"
     ]
    }
   ],
   "source": [
    "low = 0\n",
    "high = len(new_list)-1\n",
    "step = 0\n",
    "item = 17\n",
    "\n",
    "while low <= high:\n",
    "    step = step + 1\n",
    "    mid = int(low + high)//2\n",
    "    guess = new_list[mid]\n",
    "    print(f\"While Loop - Step:{step}, Low:{low}, High:{high}, Mid{mid}, Item:{new_list[mid]}\")\n",
    "    if guess == item:\n",
    "        print(mid, step)\n",
    "    if guess >= item:\n",
    "        high = mid - 1\n",
    "    else:\n",
    "        low = mid + 1"
   ]
  },
  {
   "cell_type": "code",
   "execution_count": 78,
   "metadata": {},
   "outputs": [],
   "source": [
    "def binary_search2(list, item):\n",
    "    import math\n",
    "    log = math.log(len(list),2)\n",
    "    print(f\"Expected Steps: {log}\")\n",
    "    low = 0\n",
    "    high = len(list)-1\n",
    "    step = 0\n",
    "\n",
    "    while low <= high:\n",
    "        step = step + 1\n",
    "        mid = (low + high)//2\n",
    "        guess = list[mid]\n",
    "        print(f\"While Loop - Step:{step}, Low:{low}, High:{high}, Mid:{mid}, Item:{list[mid]}\")\n",
    "        if guess == item:\n",
    "            return print(f\"Item: {item} is in Index: {mid}, Resolved in {step} steps\")\n",
    "        if guess > item:\n",
    "            high = mid - 1\n",
    "        else:\n",
    "            low = mid + 1\n",
    "    return print(\"Item not in list\")"
   ]
  },
  {
   "cell_type": "code",
   "execution_count": 79,
   "metadata": {},
   "outputs": [
    {
     "name": "stdout",
     "output_type": "stream",
     "text": [
      "Expected Steps: 6.643856189774725\n",
      "While Loop - Step:1, Low:0, High:99, Mid:49, Item:501\n",
      "While Loop - Step:2, Low:0, High:48, Mid:24, Item:240\n",
      "While Loop - Step:3, Low:0, High:23, Mid:11, Item:180\n",
      "While Loop - Step:4, Low:12, High:23, Mid:17, Item:219\n",
      "While Loop - Step:5, Low:18, High:23, Mid:20, Item:229\n",
      "While Loop - Step:6, Low:21, High:23, Mid:22, Item:235\n",
      "Item: 235 is in Index: 22, Resolved in 6 steps\n"
     ]
    }
   ],
   "source": [
    "binary_search2(new_list, 235)"
   ]
  },
  {
   "cell_type": "code",
   "execution_count": 83,
   "metadata": {},
   "outputs": [
    {
     "ename": "ModuleNotFoundError",
     "evalue": "No module named 'plantumlencoder'",
     "output_type": "error",
     "traceback": [
      "\u001b[0;31m---------------------------------------------------------------------------\u001b[0m",
      "\u001b[0;31mModuleNotFoundError\u001b[0m                       Traceback (most recent call last)",
      "\u001b[1;32m/home/atefalvi/git/algo/notebooks/chp1.ipynb Cell 20'\u001b[0m in \u001b[0;36m<module>\u001b[0;34m\u001b[0m\n\u001b[1;32m      <a href='vscode-notebook-cell:/home/atefalvi/git/algo/notebooks/chp1.ipynb#ch0000028?line=0'>1</a>\u001b[0m \u001b[39mimport\u001b[39;00m \u001b[39murllib\u001b[39;00m\n\u001b[0;32m----> <a href='vscode-notebook-cell:/home/atefalvi/git/algo/notebooks/chp1.ipynb#ch0000028?line=1'>2</a>\u001b[0m \u001b[39mimport\u001b[39;00m \u001b[39mplantumlencoder\u001b[39;00m\n\u001b[1;32m      <a href='vscode-notebook-cell:/home/atefalvi/git/algo/notebooks/chp1.ipynb#ch0000028?line=2'>3</a>\u001b[0m \u001b[39mfrom\u001b[39;00m \u001b[39mIPython\u001b[39;00m\u001b[39m.\u001b[39;00m\u001b[39mcore\u001b[39;00m\u001b[39m.\u001b[39;00m\u001b[39mmagic\u001b[39;00m \u001b[39mimport\u001b[39;00m magics_class, cell_magic, Magics\n\u001b[1;32m      <a href='vscode-notebook-cell:/home/atefalvi/git/algo/notebooks/chp1.ipynb#ch0000028?line=3'>4</a>\u001b[0m \u001b[39mfrom\u001b[39;00m \u001b[39mIPython\u001b[39;00m\u001b[39m.\u001b[39;00m\u001b[39mdisplay\u001b[39;00m \u001b[39mimport\u001b[39;00m Image, SVG\n",
      "\u001b[0;31mModuleNotFoundError\u001b[0m: No module named 'plantumlencoder'"
     ]
    }
   ],
   "source": [
    "import urllib\n",
    "import plantumlencoder\n",
    "from IPython.core.magic import magics_class, cell_magic, Magics\n",
    "from IPython.display import Image, SVG\n",
    "\n",
    "@magics_class\n",
    "class Plantuml(Magics):\n",
    "\n",
    "    @cell_magic\n",
    "    def plantuml(self, line, cell):\n",
    "        self.filename = line\n",
    "        self.code = \"\"\n",
    "        for line in cell.split('\\n'):\n",
    "            newline = line.strip()\n",
    "            if newline:\n",
    "                self.code += newline + '\\n'\n",
    "\n",
    "        uri = \"http://www.plantuml.com/plantuml/svg/\" + plantumlencoder.compress(self.code)\n",
    "\n",
    "        urllib.urlretrieve(uri, self.filename)\n",
    "\n",
    "        return SVG(filename=self.filename)    \n",
    "\n",
    "def load_ipython_extension(ipython):\n",
    "    ipython.register_magics(Plantuml)"
   ]
  },
  {
   "cell_type": "code",
   "execution_count": 87,
   "metadata": {},
   "outputs": [
    {
     "name": "stdout",
     "output_type": "stream",
     "text": [
      "Defaulting to user installation because normal site-packages is not writeable\n",
      "Requirement already satisfied: iplantuml in /home/atefalvi/.local/lib/python3.9/site-packages (0.1.1)\n",
      "Requirement already satisfied: plantweb in /home/atefalvi/.local/lib/python3.9/site-packages (from iplantuml) (1.2.1)\n",
      "Requirement already satisfied: requests in /usr/lib/python3/dist-packages (from plantweb->iplantuml) (2.25.1)\n",
      "Requirement already satisfied: six in /home/atefalvi/.local/lib/python3.9/site-packages (from plantweb->iplantuml) (1.16.0)\n",
      "Requirement already satisfied: docutils in /home/atefalvi/.local/lib/python3.9/site-packages (from plantweb->iplantuml) (0.18.1)\n"
     ]
    }
   ],
   "source": [
    "!pip install iplantuml"
   ]
  },
  {
   "cell_type": "code",
   "execution_count": 88,
   "metadata": {},
   "outputs": [],
   "source": [
    "import iplantuml"
   ]
  },
  {
   "cell_type": "code",
   "execution_count": 89,
   "metadata": {},
   "outputs": [
    {
     "name": "stdout",
     "output_type": "stream",
     "text": [
      "Writing output for /home/atefalvi/git/algo/notebooks/2cf27938-4ac7-4102-aab5-b75500e293c3.uml to 2cf27938-4ac7-4102-aab5-b75500e293c3.svg\n"
     ]
    },
    {
     "data": {
      "image/svg+xml": "<svg xmlns=\"http://www.w3.org/2000/svg\" xmlns:xlink=\"http://www.w3.org/1999/xlink\" contentStyleType=\"text/css\" height=\"149px\" preserveAspectRatio=\"none\" style=\"width:241px;height:149px;background:#FFFFFF;\" version=\"1.1\" viewBox=\"0 0 241 149\" width=\"241px\" zoomAndPan=\"magnify\"><defs/><g><line style=\"stroke:#181818;stroke-width:0.5;stroke-dasharray:5.0,5.0;\" x1=\"29\" x2=\"29\" y1=\"36.2969\" y2=\"114.5625\"/><line style=\"stroke:#181818;stroke-width:0.5;stroke-dasharray:5.0,5.0;\" x1=\"213\" x2=\"213\" y1=\"36.2969\" y2=\"114.5625\"/><rect fill=\"#E2E2F0\" height=\"30.2969\" rx=\"2.5\" ry=\"2.5\" style=\"stroke:#181818;stroke-width:0.5;\" width=\"49\" x=\"5\" y=\"5\"/><text fill=\"#000000\" font-family=\"sans-serif\" font-size=\"14\" lengthAdjust=\"spacing\" textLength=\"35\" x=\"12\" y=\"24.9951\">Alice</text><rect fill=\"#E2E2F0\" height=\"30.2969\" rx=\"2.5\" ry=\"2.5\" style=\"stroke:#181818;stroke-width:0.5;\" width=\"49\" x=\"5\" y=\"113.5625\"/><text fill=\"#000000\" font-family=\"sans-serif\" font-size=\"14\" lengthAdjust=\"spacing\" textLength=\"35\" x=\"12\" y=\"133.5576\">Alice</text><rect fill=\"#E2E2F0\" height=\"30.2969\" rx=\"2.5\" ry=\"2.5\" style=\"stroke:#181818;stroke-width:0.5;\" width=\"43\" x=\"192\" y=\"5\"/><text fill=\"#000000\" font-family=\"sans-serif\" font-size=\"14\" lengthAdjust=\"spacing\" textLength=\"29\" x=\"199\" y=\"24.9951\">Bob</text><rect fill=\"#E2E2F0\" height=\"30.2969\" rx=\"2.5\" ry=\"2.5\" style=\"stroke:#181818;stroke-width:0.5;\" width=\"43\" x=\"192\" y=\"113.5625\"/><text fill=\"#000000\" font-family=\"sans-serif\" font-size=\"14\" lengthAdjust=\"spacing\" textLength=\"29\" x=\"199\" y=\"133.5576\">Bob</text><polygon fill=\"#181818\" points=\"201.5,63.4297,211.5,67.4297,201.5,71.4297,205.5,67.4297\" style=\"stroke:#181818;stroke-width:1.0;\"/><line style=\"stroke:#181818;stroke-width:1.0;\" x1=\"29.5\" x2=\"207.5\" y1=\"67.4297\" y2=\"67.4297\"/><text fill=\"#000000\" font-family=\"sans-serif\" font-size=\"13\" lengthAdjust=\"spacing\" textLength=\"150\" x=\"36.5\" y=\"62.3638\">Authentication Request</text><polygon fill=\"#181818\" points=\"40.5,92.5625,30.5,96.5625,40.5,100.5625,36.5,96.5625\" style=\"stroke:#181818;stroke-width:1.0;\"/><line style=\"stroke:#181818;stroke-width:1.0;stroke-dasharray:2.0,2.0;\" x1=\"34.5\" x2=\"212.5\" y1=\"96.5625\" y2=\"96.5625\"/><text fill=\"#000000\" font-family=\"sans-serif\" font-size=\"13\" lengthAdjust=\"spacing\" textLength=\"160\" x=\"46.5\" y=\"91.4966\">Authentication Response</text><!--MD5=[fad72cc87698d6cd934fc403b6a00c81]\n@startuml\nAlice -> Bob: Authentication Request\nBob - -> Alice: Authentication Response\n@enduml\n\nPlantUML version 1.2022.2beta7(Unknown compile time)\n(GPL source distribution)\nJava Runtime: Java(TM) SE Runtime Environment\nJVM: Java HotSpot(TM) 64-Bit Server VM\nDefault Encoding: UTF-8\nLanguage: en\nCountry: US\n--></g></svg>",
      "text/plain": [
       "<IPython.core.display.SVG object>"
      ]
     },
     "execution_count": 89,
     "metadata": {},
     "output_type": "execute_result"
    }
   ],
   "source": [
    "%%plantuml \n",
    "\n",
    "@startuml\n",
    "Alice -> Bob: Authentication Request\n",
    "Bob --> Alice: Authentication Response\n",
    "@enduml "
   ]
  },
  {
   "cell_type": "code",
   "execution_count": null,
   "metadata": {},
   "outputs": [],
   "source": []
  }
 ],
 "metadata": {
  "interpreter": {
   "hash": "916dbcbb3f70747c44a77c7bcd40155683ae19c65e1c03b4aa3499c5328201f1"
  },
  "kernelspec": {
   "display_name": "Python 3.9.7 64-bit",
   "language": "python",
   "name": "python3"
  },
  "language_info": {
   "codemirror_mode": {
    "name": "ipython",
    "version": 3
   },
   "file_extension": ".py",
   "mimetype": "text/x-python",
   "name": "python",
   "nbconvert_exporter": "python",
   "pygments_lexer": "ipython3",
   "version": "3.9.7"
  },
  "orig_nbformat": 4
 },
 "nbformat": 4,
 "nbformat_minor": 2
}
